{
 "cells": [
  {
   "cell_type": "code",
   "execution_count": null,
   "id": "b6339747-e958-4110-8e6f-38a700314c7a",
   "metadata": {},
   "outputs": [],
   "source": [
    "import os\n",
    "import httpx\n",
    "import asyncio\n",
    "import requests\n",
    "import numpy as np\n",
    "import pandas as pd\n",
    "\n",
    "from bs4 import BeautifulSoup as bs"
   ]
  },
  {
   "cell_type": "code",
   "execution_count": null,
   "id": "7ba1e56e-6dec-4f22-8451-dbd84a8d2d7e",
   "metadata": {},
   "outputs": [],
   "source": [
    "BASE_URL = 'https://en.wikipedia.org'\n",
    "DISNEY_URL = 'https://en.wikipedia.org/wiki/List_of_Walt_Disney_Pictures_films'"
   ]
  },
  {
   "cell_type": "code",
   "execution_count": null,
   "id": "d78c700f-0f84-4684-b060-209422585e30",
   "metadata": {},
   "outputs": [],
   "source": [
    "# Retrieve content in url\n",
    "# 'https://en.wikipedia.org/wiki/The_Great_Locomotive_Chase'\n",
    "# 'https://en.wikipedia.org/wiki/Toy_Story_3'\n",
    "response = httpx.get('https://en.wikipedia.org/wiki/The_Great_Locomotive_Chase')\n",
    "print(response)"
   ]
  },
  {
   "cell_type": "code",
   "execution_count": null,
   "id": "5e797b3a-0154-456f-bea5-e0d18aa75eec",
   "metadata": {},
   "outputs": [],
   "source": [
    "# Get HTML content of Page\n",
    "html = response.content\n",
    "# Turn the HTML to a beautiful soup object\n",
    "soup = bs(html)"
   ]
  },
  {
   "cell_type": "code",
   "execution_count": null,
   "id": "f5acb454-9e49-4e8c-89e6-d4ff0873eb60",
   "metadata": {
    "scrolled": true
   },
   "outputs": [],
   "source": [
    "info_box = soup.find(class_=\"infobox vevent\") # ''\n",
    "print(info_box.prettify())"
   ]
  },
  {
   "cell_type": "code",
   "execution_count": null,
   "id": "66921f5a-c404-427e-af11-efbb10376a32",
   "metadata": {
    "scrolled": true
   },
   "outputs": [],
   "source": [
    "def replace_string(string):\n",
    "    return string.replace('\\xa0', ' ')\n",
    "\n",
    "\n",
    "def find_html(row, tag = 'th'):\n",
    "    return row.find(tag).get_text(' ', strip=True)\n",
    "\n",
    "\n",
    "def get_field_data(row):\n",
    "    table_data = row.find('td')\n",
    "    if table_data.find('li'):\n",
    "        producers = [replace_string(producer.get_text(' ', strip=True))for producer in table_data.find_all('li')]\n",
    "        return producers\n",
    "        \n",
    "    elif table_data.find('br'):\n",
    "        return [text for text in table_data.stripped_strings]\n",
    "\n",
    "    return replace_string(find_html(row, tag='td'))\n",
    "\n",
    "def remove_tags(soup):\n",
    "    tags = soup.find_all(['sup', 'span'])\n",
    "    for tag in tags:\n",
    "        tag.decompose()   \n",
    "\n",
    "movie_info = {}\n",
    "info_table = info_box.find_all('tr')\n",
    "remove_tags(info_box)\n",
    "for index, row in enumerate(info_table):\n",
    "    if index == 0:\n",
    "        movie_info['Title'] = find_html(row)\n",
    "    elif index == 1:\n",
    "        continue\n",
    "    else:\n",
    "        title = find_html(row)\n",
    "        data = get_field_data(row)\n",
    "        movie_info[title] = data\n",
    "# ''\n",
    "movie_info"
   ]
  },
  {
   "cell_type": "code",
   "execution_count": null,
   "id": "079f44d1-efe7-4a56-ad5e-26463b23492d",
   "metadata": {},
   "outputs": [],
   "source": [
    "def get_italics_tag(tags):\n",
    "    urls = [tag[\"href\"] for tag in tags]\n",
    "    return urls\n",
    "\n",
    "\n",
    "def get_disney_urls(url):\n",
    "    \n",
    "    response = httpx.get(url)\n",
    "    walt_disney_html = response.content\n",
    "    walt_disney_bs = bs(walt_disney_html)\n",
    "    # walt_disney_bs.prettify()\n",
    "    # table = walt_disney_bs.find_all('table', {'class': 'wikitable sortable'})\n",
    "    italics_tag = walt_disney_bs.select(\".wikitable.sortable i a\")\n",
    "    urls = get_italics_tag(italics_tag)\n",
    "    \n",
    "    return urls\n",
    "\n",
    "url_list = get_disney_urls(DISNEY_URL)"
   ]
  },
  {
   "cell_type": "code",
   "execution_count": null,
   "id": "4aa1014f-fdf6-42d5-8c6d-07e58397bf89",
   "metadata": {
    "scrolled": true
   },
   "outputs": [],
   "source": [
    "print(len(url_list))\n",
    "\n",
    "url_list"
   ]
  },
  {
   "cell_type": "code",
   "execution_count": null,
   "id": "885f18fa-880a-4f49-8c46-7dcf4a7e7247",
   "metadata": {
    "scrolled": true
   },
   "outputs": [],
   "source": [
    "#%%writefile concurrent_helper2.py\n",
    "import httpx\n",
    "import asyncio\n",
    "\n",
    "\n",
    "BASE_URL = 'https://en.wikipedia.org'\n",
    "DISNEY_URL = 'https://en.wikipedia.org/wiki/List_of_Walt_Disney_Pictures_films'\n",
    "\n",
    "def get_info_box(movies_bs):\n",
    "    \n",
    "    info_box = movie_bs.find(class_=\"infobox vevent\")\n",
    "    remove_tags(info_box)\n",
    "    info_table = info_box.find_all('tr')\n",
    "\n",
    "    movie_info = {}\n",
    "    for index, row in enumerate(info_table):\n",
    "        if index == 0:\n",
    "            movie_info['Title'] = find_html(row)\n",
    "        else:\n",
    "            header = row.find('th')\n",
    "            if header:\n",
    "                title = find_html(row)\n",
    "                data = get_field_data(row)\n",
    "                movie_info[title] = data\n",
    "    return  movie_info\n",
    "\n",
    "    \n",
    "async def get_movie_content(url, client: httpx.AsyncClient, semaphore: asyncio.Semaphore):\n",
    "    url = f'{BASE_URL}{url}'\n",
    "    async with semaphore:\n",
    "        response = await client.get(url, timeout=6.1, \n",
    "                                    follow_redirects=True )\n",
    "    movie_html = response.content\n",
    "    movie_bs = bs(movie_html)\n",
    "    movie_info = None\n",
    "    try:\n",
    "        movie_info = get_info_box(movie_bs)\n",
    "    except Exception as e:\n",
    "        print(f'Error: {e}')\n",
    "\n",
    "    return movie_info\n",
    "\n",
    "\n",
    "async def get_many_movie_content(urls):\n",
    "    semaphore = asyncio.Semaphore(16)\n",
    "    async with httpx.AsyncClient() as client:\n",
    "        to_do = [get_movie_content(url, client, semaphore) for url in urls]\n",
    "        results = await asyncio.gather(*to_do)\n",
    "\n",
    "    return results\n",
    "\n",
    "\n",
    "def get_page_html(urls):\n",
    "    return asyncio.run(get_many_movie_content(urls))\n",
    "    \n",
    "\n",
    "def main():\n",
    "    disney_urls = get_disney_urls(DISNEY_URL)\n",
    "    results = get_page_html(disney_urls)\n",
    "    print(results)"
   ]
  },
  {
   "cell_type": "code",
   "execution_count": null,
   "id": "59086dee-10c1-4cec-ab92-0288f06022cc",
   "metadata": {},
   "outputs": [],
   "source": [
    "from utils.utils import clean_minutes, clean_date\n",
    "from utils.conversion import money_conversion, parse_date_string\n",
    "from utils.data_utils import load_json\n",
    "\n",
    "data_path = './movie_datasets/'\n",
    "filename = 'disney_movies.json'\n",
    "movies = load_json(f'{data_path}{filename}')"
   ]
  },
  {
   "cell_type": "code",
   "execution_count": null,
   "id": "d7e7cc0a-0d2f-45a4-b1f0-c9c30375ba92",
   "metadata": {
    "scrolled": true
   },
   "outputs": [],
   "source": [
    "print(len(movies))\n",
    "movies"
   ]
  },
  {
   "cell_type": "code",
   "execution_count": null,
   "id": "6e2e3d00-c36f-40de-8afd-66ad4e2dc341",
   "metadata": {},
   "outputs": [],
   "source": [
    "for movie in movies:\n",
    "    movie['Box office'] = money_conversion(movie.get('Box office', 'N/A'))\n",
    "    movie['Budget'] = money_conversion(movie.get('Budget', 'N/A'))\n",
    "    movie['Running time'] = clean_minutes(movie.get('Running time', 'N/A'))\n",
    "    "
   ]
  },
  {
   "cell_type": "code",
   "execution_count": null,
   "id": "8ee6550a-03a9-40ec-a67f-3e78d94fd811",
   "metadata": {
    "scrolled": true
   },
   "outputs": [],
   "source": [
    "movies[:3]"
   ]
  },
  {
   "cell_type": "code",
   "execution_count": null,
   "id": "2ad08346-17df-437d-a8cc-d6c81014f16a",
   "metadata": {},
   "outputs": [],
   "source": [
    "# ['November 13, 1940']\n",
    "#['February 7, 1940 ( Center Theatre )\n",
    "# Clean Date and convert to datetimr object\n",
    "import re\n",
    "#\"13 March 1952 (London)\n",
    "#\"June 27, 1941\"\n",
    "#1948-1960\n",
    "\n",
    "regex = r'\\w+\\s\\d{1,2},\\s\\d{4}|\\d{1,2}\\s\\w+\\s\\d{4}|\\d{4}'\n",
    "\n",
    "def clean_date(value):\n",
    "    if isinstance(value, list) and len(value) > 1:\n",
    "        # Get release date for US\n",
    "        value = value[1]\n",
    "    elif isinstance(value, list) and len(value) == 1:\n",
    "        value = value[0]\n",
    "    \n",
    "    value = re.search(regex, value).group()\n",
    "    \n",
    "    return value"
   ]
  },
  {
   "cell_type": "code",
   "execution_count": null,
   "id": "e0349a1e-4ea8-44fe-b0df-5a670ff92742",
   "metadata": {},
   "outputs": [],
   "source": [
    "re.search(regex,\"13 March 1952\").group()"
   ]
  },
  {
   "cell_type": "code",
   "execution_count": null,
   "id": "438f0bc6-333f-4a82-a0dd-ec5b118d5376",
   "metadata": {},
   "outputs": [],
   "source": [
    "string = clean_date([\n",
    "            \"June 27, 1941\"\n",
    "        ])\n",
    "string"
   ]
  },
  {
   "cell_type": "code",
   "execution_count": null,
   "id": "95ce713e-d35a-4ecf-8e9a-76933240e23a",
   "metadata": {
    "scrolled": true
   },
   "outputs": [],
   "source": [
    "# for i, movie in enumerate(movies):\n",
    "#     #print(i)\n",
    "#     for key in movie.copy().keys():\n",
    "#         if key == 'Release date' or key == 'Release dates':\n",
    "#             movie['Release date'] = clean_date(movie[key])\n",
    "#             continue\n",
    "    "
   ]
  },
  {
   "cell_type": "code",
   "execution_count": null,
   "id": "f572e249-e54a-41ae-a575-f460338a6644",
   "metadata": {},
   "outputs": [],
   "source": [
    "for i, movie in enumerate(movies):\n",
    "    t = movie.get('Release dates', 'N/A')\n",
    "    if t =='N/A':\n",
    "        movie['Release date'] = clean_date(movie.get('Release date', 'N/A'))\n",
    "    else:\n",
    "        movie['Release date'] = clean_date(movie.get('Release dates', 'N/A'))"
   ]
  },
  {
   "cell_type": "code",
   "execution_count": null,
   "id": "9d1619f9-b320-45da-8b9c-17cffc886dfc",
   "metadata": {
    "scrolled": true
   },
   "outputs": [],
   "source": [
    "movies[:10]"
   ]
  },
  {
   "cell_type": "code",
   "execution_count": null,
   "id": "9503c292-6fc0-43f1-ba8b-eb52fc274a54",
   "metadata": {},
   "outputs": [],
   "source": [
    "v = parse_date_string('01:2024:13')   "
   ]
  },
  {
   "cell_type": "code",
   "execution_count": null,
   "id": "1469e1a2-1497-4dbd-8807-b1d633f8c6a1",
   "metadata": {},
   "outputs": [],
   "source": [
    "for movie in movies:\n",
    "    movie['Release date'] = parse_date_string(movie.get('Release date', 'N/A' ))"
   ]
  },
  {
   "cell_type": "code",
   "execution_count": null,
   "id": "ae354c2a-7754-4929-b81a-ad665bac3126",
   "metadata": {
    "scrolled": true
   },
   "outputs": [],
   "source": [
    "movies[:10]"
   ]
  },
  {
   "cell_type": "code",
   "execution_count": null,
   "id": "aaddfd2c-5dc7-4da8-b0f0-1bb87ae1166e",
   "metadata": {},
   "outputs": [],
   "source": [
    "save_pickle(full_path, movies)"
   ]
  },
  {
   "cell_type": "code",
   "execution_count": null,
   "id": "dcd1c444-a3c8-4002-881e-1cb5b8c2816c",
   "metadata": {},
   "outputs": [],
   "source": [
    "# Save to pickle since datetime object is not serializable\n",
    "from utils.data_utils import save_pickle, save_json, load_json, load_pickle\n",
    "data_path = 'movie_datasets/'\n",
    "filename = 'disney_movies.pickle'\n",
    "full_path = f'{data_path}{filename}'\n"
   ]
  },
  {
   "cell_type": "code",
   "execution_count": null,
   "id": "81a26f17-2c3a-4846-8550-d387153af927",
   "metadata": {},
   "outputs": [],
   "source": [
    "movies = load_pickle(full_path)"
   ]
  },
  {
   "cell_type": "code",
   "execution_count": null,
   "id": "e067f54d-f77c-47f9-a5d5-55de0473a7f4",
   "metadata": {},
   "outputs": [],
   "source": [
    "len(movies)"
   ]
  },
  {
   "cell_type": "code",
   "execution_count": null,
   "id": "01ee1d00-2bb2-4b3e-978e-111bc58b586b",
   "metadata": {
    "scrolled": true
   },
   "outputs": [],
   "source": [
    "from utils.data_utils import get_omdb_info\n",
    "get_omdb_info('The Lion King')"
   ]
  },
  {
   "cell_type": "code",
   "execution_count": null,
   "id": "8bf71452-3842-4746-9679-90a3b87e6546",
   "metadata": {
    "scrolled": true
   },
   "outputs": [],
   "source": [
    "movies"
   ]
  },
  {
   "cell_type": "code",
   "execution_count": null,
   "id": "246eda9f-bfc9-4466-a4d1-08b311f6e539",
   "metadata": {},
   "outputs": [],
   "source": [
    "def get_movie_titles(movie_data):\n",
    "    movie_titles = []\n",
    "    for movie in movies:\n",
    "        title = movie.get('Title', 'N/A')\n",
    "        movie_titles.append(title)\n",
    "\n",
    "    return movie_titles"
   ]
  },
  {
   "cell_type": "code",
   "execution_count": null,
   "id": "a1c0a84a-a89d-48e2-bd9d-f1d55810191f",
   "metadata": {},
   "outputs": [],
   "source": [
    "movie_titles = get_movie_titles(movies)\n",
    "movie_titles"
   ]
  },
  {
   "cell_type": "code",
   "execution_count": null,
   "id": "abb29091-5000-4c50-9d07-7cd8128c8c47",
   "metadata": {},
   "outputs": [],
   "source": [
    "from scraper.omdb import omdb_main, omdb_file\n",
    "import asyncio\n",
    "\n",
    "await omdb_main(movies)"
   ]
  },
  {
   "cell_type": "code",
   "execution_count": null,
   "id": "48a7fa46-96c7-4155-8883-ae718ee0f134",
   "metadata": {},
   "outputs": [],
   "source": [
    "omdb_file = 'omdb_movies.pickle'\n",
    "full_path = f'{data_path}{omdb_file}'\n",
    "omdb_movie = load_pickle(full_path)"
   ]
  },
  {
   "cell_type": "code",
   "execution_count": null,
   "id": "2f64dda5-ac36-4608-9cb0-4b01e238fc01",
   "metadata": {},
   "outputs": [],
   "source": [
    "len(omdb_movie)"
   ]
  },
  {
   "cell_type": "code",
   "execution_count": null,
   "id": "53d010e7-8139-4a00-b2a7-e44c5f8b0c5e",
   "metadata": {
    "scrolled": true
   },
   "outputs": [],
   "source": [
    "omdb_movie[:5]"
   ]
  },
  {
   "cell_type": "code",
   "execution_count": null,
   "id": "ba89997d-f2aa-4450-a0e2-f208926041e2",
   "metadata": {
    "scrolled": true
   },
   "outputs": [],
   "source": [
    "movies[:5]"
   ]
  },
  {
   "cell_type": "code",
   "execution_count": null,
   "id": "e0462904-13b7-41ea-ba1d-123876d282ea",
   "metadata": {},
   "outputs": [],
   "source": [
    "def get_rotten_tomoatoes_score(data, key='Ratings'):\n",
    "    ratings = data.get(key, None)\n",
    "    if ratings is None:\n",
    "        return None\n",
    "    for dict_ in ratings:\n",
    "        rotten_tomoatoes_score = dict_.get('Source', None)\n",
    "        if rotten_tomoatoes_score == 'Rotten Tomatoes':\n",
    "            value = dict_.get('Value', None)\n",
    "            return value\n",
    "          \n",
    "value = get_rotten_tomoatoes_score(omdb_movie[1])\n",
    "value"
   ]
  },
  {
   "cell_type": "code",
   "execution_count": null,
   "id": "a918ca1d-aa2c-435a-add8-c5a044c7e370",
   "metadata": {},
   "outputs": [],
   "source": [
    "\n",
    "for mine, omdb in zip(movies, omdb_movie):\n",
    "    mine['imdb'] = omdb.get('imdbRating', None)\n",
    "    mine['imdbVotes'] = omdb.get('imdbVotes', None)\n",
    "    mine['Metascore'] = omdb.get('Metascore', None)\n",
    "    mine['Rotten Tomatoes'] = get_rotten_tomoatoes_score(omdb)"
   ]
  },
  {
   "cell_type": "code",
   "execution_count": null,
   "id": "6706b31d-ff75-4198-83c0-12bfaf9a17b7",
   "metadata": {
    "scrolled": true
   },
   "outputs": [],
   "source": [
    "movies[:5]"
   ]
  },
  {
   "cell_type": "code",
   "execution_count": null,
   "id": "8781f2be-0e39-427d-ab84-64a5c3caed4e",
   "metadata": {},
   "outputs": [],
   "source": [
    "pickle_filename = 'disney_mine_omdb.pickle'\n",
    "pickle_path = f'{data_path}{pickle_filename}'"
   ]
  },
  {
   "cell_type": "code",
   "execution_count": null,
   "id": "3529821e-99fb-428e-bb16-c4d1b43eeea1",
   "metadata": {},
   "outputs": [],
   "source": [
    "# Not serializable\n",
    "# json_filename = 'disney_mine_omdb.json'\n",
    "# json_path = f'{data_path}{json_filename}'\n",
    "# save_json(json_path, movies)\n",
    "import pandas as pd"
   ]
  },
  {
   "cell_type": "code",
   "execution_count": null,
   "id": "922c4a98-db6a-4f46-851b-65ad16dc7e5a",
   "metadata": {},
   "outputs": [],
   "source": [
    "df = pd.DataFrame(movies)\n",
    "df.head(5).columns"
   ]
  },
  {
   "cell_type": "code",
   "execution_count": null,
   "id": "917ca517-3ede-4280-a1ad-4ef7d3ab7be0",
   "metadata": {},
   "outputs": [],
   "source": [
    "df.to_pickle(pickle_path)"
   ]
  },
  {
   "cell_type": "code",
   "execution_count": null,
   "id": "229b0658-efa6-4aab-b1bf-d841802d884b",
   "metadata": {
    "scrolled": true
   },
   "outputs": [],
   "source": [
    "import pandas as pd\n",
    "df = pd.read_pickle(pickle_path)\n",
    "df.head().columns"
   ]
  },
  {
   "cell_type": "code",
   "execution_count": null,
   "id": "dfebf12d-f776-44ae-a2ef-d3079082446a",
   "metadata": {},
   "outputs": [],
   "source": []
  }
 ],
 "metadata": {
  "kernelspec": {
   "display_name": "Python 3 (ipykernel)",
   "language": "python",
   "name": "python3"
  },
  "language_info": {
   "codemirror_mode": {
    "name": "ipython",
    "version": 3
   },
   "file_extension": ".py",
   "mimetype": "text/x-python",
   "name": "python",
   "nbconvert_exporter": "python",
   "pygments_lexer": "ipython3",
   "version": "3.10.16"
  }
 },
 "nbformat": 4,
 "nbformat_minor": 5
}
